{
  "nbformat": 4,
  "nbformat_minor": 0,
  "metadata": {
    "colab": {
      "provenance": []
    },
    "kernelspec": {
      "name": "python3",
      "display_name": "Python 3"
    },
    "language_info": {
      "name": "python"
    }
  },
  "cells": [
    {
      "cell_type": "code",
      "execution_count": null,
      "metadata": {
        "id": "3Ypx4O6vkwYL"
      },
      "outputs": [],
      "source": [
        "import matplotlib.pyplot as plt\n",
        "import numpy as np\n",
        "import pandas as pd\n",
        "from sklearn.cluster import KMeans\n",
        "import seaborn as sns\n",
        "import numpy as np"
      ]
    },
    {
      "cell_type": "code",
      "source": [
        "from google.colab import drive\n",
        "drive.mount('/content/drive')"
      ],
      "metadata": {
        "colab": {
          "base_uri": "https://localhost:8080/"
        },
        "id": "X9LDnZOdk2Gu",
        "outputId": "5de8451f-5d41-4da9-cbd0-eed2bfcdc20b"
      },
      "execution_count": null,
      "outputs": [
        {
          "output_type": "stream",
          "name": "stdout",
          "text": [
            "Mounted at /content/drive\n"
          ]
        }
      ]
    },
    {
      "cell_type": "code",
      "source": [
        "train = pd.read_csv(\"/content/drive/MyDrive/Data Network/train_dataset.csv\")\n",
        "test = pd.read_csv(\"/content/drive/MyDrive/Data Network/test_dataset.csv\")"
      ],
      "metadata": {
        "id": "hglS6Ehfk4Qd"
      },
      "execution_count": null,
      "outputs": []
    },
    {
      "cell_type": "code",
      "source": [
        "train"
      ],
      "metadata": {
        "colab": {
          "base_uri": "https://localhost:8080/",
          "height": 540
        },
        "id": "nQVu6_T-k6aK",
        "outputId": "56cda5a3-cf98-4429-9ea3-46eb965b5961"
      },
      "execution_count": null,
      "outputs": [
        {
          "output_type": "execute_result",
          "data": {
            "text/plain": [
              "       LTE/5g Category  Time  Packet Loss Rate  Packet delay  IoT  LTE/5G  \\\n",
              "0                   14     0          0.000001            10    1       0   \n",
              "1                   18    20          0.001000           100    0       1   \n",
              "2                   17    14          0.000001           300    0       1   \n",
              "3                    3    17          0.010000           100    0       1   \n",
              "4                    9     4          0.010000            50    1       0   \n",
              "...                ...   ...               ...           ...  ...     ...   \n",
              "31578               14    23          0.010000           100    0       1   \n",
              "31579               12     7          0.010000            50    1       0   \n",
              "31580               18     5          0.010000           300    1       0   \n",
              "31581                8     1          0.000001            10    1       0   \n",
              "31582               20    20          0.000001            10    1       0   \n",
              "\n",
              "       GBR  Non-GBR  AR/VR/Gaming  Healthcare  Industry 4.0  IoT Devices  \\\n",
              "0        0        1             0           0             0            0   \n",
              "1        1        0             1           0             0            0   \n",
              "2        0        1             0           0             0            0   \n",
              "3        0        1             0           0             0            0   \n",
              "4        0        1             0           0             0            0   \n",
              "...    ...      ...           ...         ...           ...          ...   \n",
              "31578    0        1             0           0             0            0   \n",
              "31579    0        1             0           0             0            0   \n",
              "31580    1        0             0           0             0            1   \n",
              "31581    0        1             0           1             0            0   \n",
              "31582    0        1             0           0             1            0   \n",
              "\n",
              "       Public Safety  Smart City & Home  Smart Transportation  Smartphone  \\\n",
              "0                  1                  0                     0           0   \n",
              "1                  0                  0                     0           0   \n",
              "2                  0                  0                     0           1   \n",
              "3                  0                  0                     0           1   \n",
              "4                  0                  1                     0           0   \n",
              "...              ...                ...                   ...         ...   \n",
              "31578              0                  0                     0           1   \n",
              "31579              0                  1                     0           0   \n",
              "31580              0                  0                     0           0   \n",
              "31581              0                  0                     0           0   \n",
              "31582              0                  0                     0           0   \n",
              "\n",
              "       slice Type  \n",
              "0               3  \n",
              "1               1  \n",
              "2               1  \n",
              "3               1  \n",
              "4               2  \n",
              "...           ...  \n",
              "31578           1  \n",
              "31579           2  \n",
              "31580           2  \n",
              "31581           3  \n",
              "31582           3  \n",
              "\n",
              "[31583 rows x 17 columns]"
            ],
            "text/html": [
              "\n",
              "  <div id=\"df-50f7cc23-504e-4440-bfa6-baa3f4a8f91a\">\n",
              "    <div class=\"colab-df-container\">\n",
              "      <div>\n",
              "<style scoped>\n",
              "    .dataframe tbody tr th:only-of-type {\n",
              "        vertical-align: middle;\n",
              "    }\n",
              "\n",
              "    .dataframe tbody tr th {\n",
              "        vertical-align: top;\n",
              "    }\n",
              "\n",
              "    .dataframe thead th {\n",
              "        text-align: right;\n",
              "    }\n",
              "</style>\n",
              "<table border=\"1\" class=\"dataframe\">\n",
              "  <thead>\n",
              "    <tr style=\"text-align: right;\">\n",
              "      <th></th>\n",
              "      <th>LTE/5g Category</th>\n",
              "      <th>Time</th>\n",
              "      <th>Packet Loss Rate</th>\n",
              "      <th>Packet delay</th>\n",
              "      <th>IoT</th>\n",
              "      <th>LTE/5G</th>\n",
              "      <th>GBR</th>\n",
              "      <th>Non-GBR</th>\n",
              "      <th>AR/VR/Gaming</th>\n",
              "      <th>Healthcare</th>\n",
              "      <th>Industry 4.0</th>\n",
              "      <th>IoT Devices</th>\n",
              "      <th>Public Safety</th>\n",
              "      <th>Smart City &amp; Home</th>\n",
              "      <th>Smart Transportation</th>\n",
              "      <th>Smartphone</th>\n",
              "      <th>slice Type</th>\n",
              "    </tr>\n",
              "  </thead>\n",
              "  <tbody>\n",
              "    <tr>\n",
              "      <th>0</th>\n",
              "      <td>14</td>\n",
              "      <td>0</td>\n",
              "      <td>0.000001</td>\n",
              "      <td>10</td>\n",
              "      <td>1</td>\n",
              "      <td>0</td>\n",
              "      <td>0</td>\n",
              "      <td>1</td>\n",
              "      <td>0</td>\n",
              "      <td>0</td>\n",
              "      <td>0</td>\n",
              "      <td>0</td>\n",
              "      <td>1</td>\n",
              "      <td>0</td>\n",
              "      <td>0</td>\n",
              "      <td>0</td>\n",
              "      <td>3</td>\n",
              "    </tr>\n",
              "    <tr>\n",
              "      <th>1</th>\n",
              "      <td>18</td>\n",
              "      <td>20</td>\n",
              "      <td>0.001000</td>\n",
              "      <td>100</td>\n",
              "      <td>0</td>\n",
              "      <td>1</td>\n",
              "      <td>1</td>\n",
              "      <td>0</td>\n",
              "      <td>1</td>\n",
              "      <td>0</td>\n",
              "      <td>0</td>\n",
              "      <td>0</td>\n",
              "      <td>0</td>\n",
              "      <td>0</td>\n",
              "      <td>0</td>\n",
              "      <td>0</td>\n",
              "      <td>1</td>\n",
              "    </tr>\n",
              "    <tr>\n",
              "      <th>2</th>\n",
              "      <td>17</td>\n",
              "      <td>14</td>\n",
              "      <td>0.000001</td>\n",
              "      <td>300</td>\n",
              "      <td>0</td>\n",
              "      <td>1</td>\n",
              "      <td>0</td>\n",
              "      <td>1</td>\n",
              "      <td>0</td>\n",
              "      <td>0</td>\n",
              "      <td>0</td>\n",
              "      <td>0</td>\n",
              "      <td>0</td>\n",
              "      <td>0</td>\n",
              "      <td>0</td>\n",
              "      <td>1</td>\n",
              "      <td>1</td>\n",
              "    </tr>\n",
              "    <tr>\n",
              "      <th>3</th>\n",
              "      <td>3</td>\n",
              "      <td>17</td>\n",
              "      <td>0.010000</td>\n",
              "      <td>100</td>\n",
              "      <td>0</td>\n",
              "      <td>1</td>\n",
              "      <td>0</td>\n",
              "      <td>1</td>\n",
              "      <td>0</td>\n",
              "      <td>0</td>\n",
              "      <td>0</td>\n",
              "      <td>0</td>\n",
              "      <td>0</td>\n",
              "      <td>0</td>\n",
              "      <td>0</td>\n",
              "      <td>1</td>\n",
              "      <td>1</td>\n",
              "    </tr>\n",
              "    <tr>\n",
              "      <th>4</th>\n",
              "      <td>9</td>\n",
              "      <td>4</td>\n",
              "      <td>0.010000</td>\n",
              "      <td>50</td>\n",
              "      <td>1</td>\n",
              "      <td>0</td>\n",
              "      <td>0</td>\n",
              "      <td>1</td>\n",
              "      <td>0</td>\n",
              "      <td>0</td>\n",
              "      <td>0</td>\n",
              "      <td>0</td>\n",
              "      <td>0</td>\n",
              "      <td>1</td>\n",
              "      <td>0</td>\n",
              "      <td>0</td>\n",
              "      <td>2</td>\n",
              "    </tr>\n",
              "    <tr>\n",
              "      <th>...</th>\n",
              "      <td>...</td>\n",
              "      <td>...</td>\n",
              "      <td>...</td>\n",
              "      <td>...</td>\n",
              "      <td>...</td>\n",
              "      <td>...</td>\n",
              "      <td>...</td>\n",
              "      <td>...</td>\n",
              "      <td>...</td>\n",
              "      <td>...</td>\n",
              "      <td>...</td>\n",
              "      <td>...</td>\n",
              "      <td>...</td>\n",
              "      <td>...</td>\n",
              "      <td>...</td>\n",
              "      <td>...</td>\n",
              "      <td>...</td>\n",
              "    </tr>\n",
              "    <tr>\n",
              "      <th>31578</th>\n",
              "      <td>14</td>\n",
              "      <td>23</td>\n",
              "      <td>0.010000</td>\n",
              "      <td>100</td>\n",
              "      <td>0</td>\n",
              "      <td>1</td>\n",
              "      <td>0</td>\n",
              "      <td>1</td>\n",
              "      <td>0</td>\n",
              "      <td>0</td>\n",
              "      <td>0</td>\n",
              "      <td>0</td>\n",
              "      <td>0</td>\n",
              "      <td>0</td>\n",
              "      <td>0</td>\n",
              "      <td>1</td>\n",
              "      <td>1</td>\n",
              "    </tr>\n",
              "    <tr>\n",
              "      <th>31579</th>\n",
              "      <td>12</td>\n",
              "      <td>7</td>\n",
              "      <td>0.010000</td>\n",
              "      <td>50</td>\n",
              "      <td>1</td>\n",
              "      <td>0</td>\n",
              "      <td>0</td>\n",
              "      <td>1</td>\n",
              "      <td>0</td>\n",
              "      <td>0</td>\n",
              "      <td>0</td>\n",
              "      <td>0</td>\n",
              "      <td>0</td>\n",
              "      <td>1</td>\n",
              "      <td>0</td>\n",
              "      <td>0</td>\n",
              "      <td>2</td>\n",
              "    </tr>\n",
              "    <tr>\n",
              "      <th>31580</th>\n",
              "      <td>18</td>\n",
              "      <td>5</td>\n",
              "      <td>0.010000</td>\n",
              "      <td>300</td>\n",
              "      <td>1</td>\n",
              "      <td>0</td>\n",
              "      <td>1</td>\n",
              "      <td>0</td>\n",
              "      <td>0</td>\n",
              "      <td>0</td>\n",
              "      <td>0</td>\n",
              "      <td>1</td>\n",
              "      <td>0</td>\n",
              "      <td>0</td>\n",
              "      <td>0</td>\n",
              "      <td>0</td>\n",
              "      <td>2</td>\n",
              "    </tr>\n",
              "    <tr>\n",
              "      <th>31581</th>\n",
              "      <td>8</td>\n",
              "      <td>1</td>\n",
              "      <td>0.000001</td>\n",
              "      <td>10</td>\n",
              "      <td>1</td>\n",
              "      <td>0</td>\n",
              "      <td>0</td>\n",
              "      <td>1</td>\n",
              "      <td>0</td>\n",
              "      <td>1</td>\n",
              "      <td>0</td>\n",
              "      <td>0</td>\n",
              "      <td>0</td>\n",
              "      <td>0</td>\n",
              "      <td>0</td>\n",
              "      <td>0</td>\n",
              "      <td>3</td>\n",
              "    </tr>\n",
              "    <tr>\n",
              "      <th>31582</th>\n",
              "      <td>20</td>\n",
              "      <td>20</td>\n",
              "      <td>0.000001</td>\n",
              "      <td>10</td>\n",
              "      <td>1</td>\n",
              "      <td>0</td>\n",
              "      <td>0</td>\n",
              "      <td>1</td>\n",
              "      <td>0</td>\n",
              "      <td>0</td>\n",
              "      <td>1</td>\n",
              "      <td>0</td>\n",
              "      <td>0</td>\n",
              "      <td>0</td>\n",
              "      <td>0</td>\n",
              "      <td>0</td>\n",
              "      <td>3</td>\n",
              "    </tr>\n",
              "  </tbody>\n",
              "</table>\n",
              "<p>31583 rows × 17 columns</p>\n",
              "</div>\n",
              "      <button class=\"colab-df-convert\" onclick=\"convertToInteractive('df-50f7cc23-504e-4440-bfa6-baa3f4a8f91a')\"\n",
              "              title=\"Convert this dataframe to an interactive table.\"\n",
              "              style=\"display:none;\">\n",
              "        \n",
              "  <svg xmlns=\"http://www.w3.org/2000/svg\" height=\"24px\"viewBox=\"0 0 24 24\"\n",
              "       width=\"24px\">\n",
              "    <path d=\"M0 0h24v24H0V0z\" fill=\"none\"/>\n",
              "    <path d=\"M18.56 5.44l.94 2.06.94-2.06 2.06-.94-2.06-.94-.94-2.06-.94 2.06-2.06.94zm-11 1L8.5 8.5l.94-2.06 2.06-.94-2.06-.94L8.5 2.5l-.94 2.06-2.06.94zm10 10l.94 2.06.94-2.06 2.06-.94-2.06-.94-.94-2.06-.94 2.06-2.06.94z\"/><path d=\"M17.41 7.96l-1.37-1.37c-.4-.4-.92-.59-1.43-.59-.52 0-1.04.2-1.43.59L10.3 9.45l-7.72 7.72c-.78.78-.78 2.05 0 2.83L4 21.41c.39.39.9.59 1.41.59.51 0 1.02-.2 1.41-.59l7.78-7.78 2.81-2.81c.8-.78.8-2.07 0-2.86zM5.41 20L4 18.59l7.72-7.72 1.47 1.35L5.41 20z\"/>\n",
              "  </svg>\n",
              "      </button>\n",
              "      \n",
              "  <style>\n",
              "    .colab-df-container {\n",
              "      display:flex;\n",
              "      flex-wrap:wrap;\n",
              "      gap: 12px;\n",
              "    }\n",
              "\n",
              "    .colab-df-convert {\n",
              "      background-color: #E8F0FE;\n",
              "      border: none;\n",
              "      border-radius: 50%;\n",
              "      cursor: pointer;\n",
              "      display: none;\n",
              "      fill: #1967D2;\n",
              "      height: 32px;\n",
              "      padding: 0 0 0 0;\n",
              "      width: 32px;\n",
              "    }\n",
              "\n",
              "    .colab-df-convert:hover {\n",
              "      background-color: #E2EBFA;\n",
              "      box-shadow: 0px 1px 2px rgba(60, 64, 67, 0.3), 0px 1px 3px 1px rgba(60, 64, 67, 0.15);\n",
              "      fill: #174EA6;\n",
              "    }\n",
              "\n",
              "    [theme=dark] .colab-df-convert {\n",
              "      background-color: #3B4455;\n",
              "      fill: #D2E3FC;\n",
              "    }\n",
              "\n",
              "    [theme=dark] .colab-df-convert:hover {\n",
              "      background-color: #434B5C;\n",
              "      box-shadow: 0px 1px 3px 1px rgba(0, 0, 0, 0.15);\n",
              "      filter: drop-shadow(0px 1px 2px rgba(0, 0, 0, 0.3));\n",
              "      fill: #FFFFFF;\n",
              "    }\n",
              "  </style>\n",
              "\n",
              "      <script>\n",
              "        const buttonEl =\n",
              "          document.querySelector('#df-50f7cc23-504e-4440-bfa6-baa3f4a8f91a button.colab-df-convert');\n",
              "        buttonEl.style.display =\n",
              "          google.colab.kernel.accessAllowed ? 'block' : 'none';\n",
              "\n",
              "        async function convertToInteractive(key) {\n",
              "          const element = document.querySelector('#df-50f7cc23-504e-4440-bfa6-baa3f4a8f91a');\n",
              "          const dataTable =\n",
              "            await google.colab.kernel.invokeFunction('convertToInteractive',\n",
              "                                                     [key], {});\n",
              "          if (!dataTable) return;\n",
              "\n",
              "          const docLinkHtml = 'Like what you see? Visit the ' +\n",
              "            '<a target=\"_blank\" href=https://colab.research.google.com/notebooks/data_table.ipynb>data table notebook</a>'\n",
              "            + ' to learn more about interactive tables.';\n",
              "          element.innerHTML = '';\n",
              "          dataTable['output_type'] = 'display_data';\n",
              "          await google.colab.output.renderOutput(dataTable, element);\n",
              "          const docLink = document.createElement('div');\n",
              "          docLink.innerHTML = docLinkHtml;\n",
              "          element.appendChild(docLink);\n",
              "        }\n",
              "      </script>\n",
              "    </div>\n",
              "  </div>\n",
              "  "
            ]
          },
          "metadata": {},
          "execution_count": 5
        }
      ]
    },
    {
      "cell_type": "code",
      "source": [
        "col=[ 'IoT','LTE/5G', 'GBR', 'Non-GBR', 'AR/VR/Gaming', 'Healthcare',\n",
        "       'Industry 4.0', 'IoT Devices', 'Public Safety', 'Smart City & Home',\n",
        "       'Smart Transportation', 'Smartphone']\n",
        "for x in col:\n",
        "  list = [0,0,0,0,0,0,0]\n",
        "  size=31583\n",
        "  for i in range(size):\n",
        "    if train[x][i]==1:\n",
        "      if train['Packet delay'][i]==10 :list[0]+=1\n",
        "      elif(train['Packet delay'][i]==50):list[1]+=1\n",
        "      elif(train['Packet delay'][i]==60):list[2]+=1\n",
        "      elif(train['Packet delay'][i]==75):list[3]+=1\n",
        "      elif(train['Packet delay'][i]==100):list[4]+=1\n",
        "      elif(train['Packet delay'][i]==150):list[5]+=1\n",
        "      else:list[6]+=1\n",
        "  print(x),print(list)"
      ],
      "metadata": {
        "colab": {
          "base_uri": "https://localhost:8080/"
        },
        "id": "CgtfLL46lNKk",
        "outputId": "f4f74587-bdd8-41c1-ee79-11e2b0a6a609"
      },
      "execution_count": null,
      "outputs": [
        {
          "output_type": "stream",
          "name": "stdout",
          "text": [
            "IoT\n",
            "[7392, 3726, 0, 0, 0, 0, 3666]\n",
            "LTE/5G\n",
            "[0, 1710, 1692, 1649, 6721, 1643, 3384]\n",
            "GBR\n",
            "[0, 1846, 1692, 0, 5047, 0, 5349]\n",
            "Non-GBR\n",
            "[7392, 3590, 0, 1649, 1674, 1643, 1701]\n",
            "AR/VR/Gaming\n",
            "[0, 1710, 0, 0, 1647, 0, 0]\n",
            "Healthcare\n",
            "[1830, 0, 0, 0, 0, 0, 0]\n",
            "Industry 4.0\n",
            "[1821, 1846, 0, 0, 0, 0, 0]\n",
            "IoT Devices\n",
            "[0, 0, 0, 0, 0, 0, 1828]\n",
            "Public Safety\n",
            "[1886, 0, 0, 0, 0, 0, 0]\n",
            "Smart City & Home\n",
            "[0, 1880, 0, 0, 0, 0, 1838]\n",
            "Smart Transportation\n",
            "[1855, 0, 0, 0, 0, 0, 0]\n",
            "Smartphone\n",
            "[0, 0, 1692, 1649, 5074, 1643, 3384]\n"
          ]
        }
      ]
    },
    {
      "cell_type": "code",
      "source": [
        "col=[ 'IoT','LTE/5G', 'GBR', 'Non-GBR', 'AR/VR/Gaming', 'Healthcare',\n",
        "       'Industry 4.0', 'IoT Devices', 'Public Safety', 'Smart City & Home',\n",
        "       'Smart Transportation', 'Smartphone']\n",
        "for x in col:\n",
        "  count_1=0\n",
        "  count_2=0\n",
        "  count_3=0\n",
        "  size=31583\n",
        "  for i in range(size):\n",
        "    if train[x][i]==1:\n",
        "      if train['Packet Loss Rate'][i]==0.000001 :count_1+=1\n",
        "      elif(train['Packet Loss Rate'][i]==0.010000):count_2+=1\n",
        "      else:count_3+=1\n",
        "  print(x),print(count_1,count_2,count_3)"
      ],
      "metadata": {
        "colab": {
          "base_uri": "https://localhost:8080/"
        },
        "id": "GAFmWSKplQdZ",
        "outputId": "e065e581-b3eb-4336-e061-6f80ea49ccb8"
      },
      "execution_count": null,
      "outputs": [
        {
          "output_type": "stream",
          "name": "stdout",
          "text": [
            "IoT\n",
            "7392 5546 1846\n",
            "LTE/5G\n",
            "6771 3323 6705\n",
            "GBR\n",
            "5070 3666 5198\n",
            "Non-GBR\n",
            "9093 5203 3353\n",
            "AR/VR/Gaming\n",
            "0 0 3357\n",
            "Healthcare\n",
            "1830 0 0\n",
            "Industry 4.0\n",
            "1821 0 1846\n",
            "IoT Devices\n",
            "0 1828 0\n",
            "Public Safety\n",
            "1886 0 0\n",
            "Smart City & Home\n",
            "0 3718 0\n",
            "Smart Transportation\n",
            "1855 0 0\n",
            "Smartphone\n",
            "6771 3323 3348\n"
          ]
        }
      ]
    },
    {
      "cell_type": "code",
      "source": [
        "col=[ 'IoT','LTE/5G', 'GBR', 'Non-GBR', 'AR/VR/Gaming', 'Healthcare',\n",
        "       'Industry 4.0', 'IoT Devices', 'Public Safety', 'Smart City & Home',\n",
        "       'Smart Transportation', 'Smartphone']\n",
        "for x in col:\n",
        "  count_1=0\n",
        "  count_2=0\n",
        "  count_3=0\n",
        "  size=31583\n",
        "\n",
        "  for i in range(size):\n",
        "    if train[x][i]==1:\n",
        "      if(train['slice Type'][i]==1):count_1+=1\n",
        "      elif(train['slice Type'][i]==2):count_2+=1\n",
        "      else:count_3+=1\n",
        "  print(x, count_1,count_2,count_3)"
      ],
      "metadata": {
        "colab": {
          "base_uri": "https://localhost:8080/"
        },
        "id": "1ieP5XWhlUZE",
        "outputId": "0b8d3b77-19a2-47c6-97b0-5ca2e222e7ef"
      },
      "execution_count": null,
      "outputs": [
        {
          "output_type": "stream",
          "name": "stdout",
          "text": [
            "IoT 0 7392 7392\n",
            "LTE/5G 16799 0 0\n",
            "GBR 8422 5512 0\n",
            "Non-GBR 8377 1880 7392\n",
            "AR/VR/Gaming 3357 0 0\n",
            "Healthcare 0 0 1830\n",
            "Industry 4.0 0 1846 1821\n",
            "IoT Devices 0 1828 0\n",
            "Public Safety 0 0 1886\n",
            "Smart City & Home 0 3718 0\n",
            "Smart Transportation 0 0 1855\n",
            "Smartphone 13442 0 0\n"
          ]
        }
      ]
    },
    {
      "cell_type": "code",
      "source": [
        "ct=0;\n",
        "for i in range(size):\n",
        "  if train['Healthcare'][i] == 1 :\n",
        "    if ct%3==0: \n",
        "      train['Packet Loss Rate'][i]=0.001000\n",
        "    if ct%5==0:\n",
        "      train['Packet Loss Rate'][i]=0.010000\n",
        "    ct+=1"
      ],
      "metadata": {
        "colab": {
          "base_uri": "https://localhost:8080/"
        },
        "id": "Mrc5QojXmAqk",
        "outputId": "1554e63a-b799-4c00-dd2a-1ec64bf9c8a7"
      },
      "execution_count": null,
      "outputs": [
        {
          "output_type": "stream",
          "name": "stderr",
          "text": [
            "<ipython-input-9-a0000b28ee09>:5: SettingWithCopyWarning: \n",
            "A value is trying to be set on a copy of a slice from a DataFrame\n",
            "\n",
            "See the caveats in the documentation: https://pandas.pydata.org/pandas-docs/stable/user_guide/indexing.html#returning-a-view-versus-a-copy\n",
            "  train['Packet Loss Rate'][i]=0.001000\n",
            "<ipython-input-9-a0000b28ee09>:7: SettingWithCopyWarning: \n",
            "A value is trying to be set on a copy of a slice from a DataFrame\n",
            "\n",
            "See the caveats in the documentation: https://pandas.pydata.org/pandas-docs/stable/user_guide/indexing.html#returning-a-view-versus-a-copy\n",
            "  train['Packet Loss Rate'][i]=0.010000\n"
          ]
        }
      ]
    },
    {
      "cell_type": "code",
      "source": [
        "#Healthcare packet loss rate\n",
        "count_1=0\n",
        "count_2=0\n",
        "count_3=0\n",
        "size=31583\n",
        "for i in range(size):\n",
        "  if train['Healthcare'][i]==1:\n",
        "    if train['Packet Loss Rate'][i]==0.000001 :count_1+=1\n",
        "    elif(train['Packet Loss Rate'][i]==0.001000):count_2+=1\n",
        "    else:count_3+=1\n",
        "print(count_1,count_2,count_3)"
      ],
      "metadata": {
        "colab": {
          "base_uri": "https://localhost:8080/"
        },
        "id": "fcjfcgoZlsFu",
        "outputId": "c3e55ccd-af72-439b-ff8a-1d64bbb6aec6"
      },
      "execution_count": null,
      "outputs": [
        {
          "output_type": "stream",
          "name": "stdout",
          "text": [
            "976 488 366\n"
          ]
        }
      ]
    },
    {
      "cell_type": "code",
      "source": [
        "ct=0;\n",
        "for i in range(size):\n",
        "  if train['Healthcare'][i] == 1 :\n",
        "    if ct%2==0 and ct%16!=0: \n",
        "      train['Packet delay'][i]=50\n",
        "    if ct%3==0 and ct%7!=0:\n",
        "      train['Packet delay'][i]=75\n",
        "    if ct%5==0:\n",
        "      train['Packet delay'][i]=100\n",
        "    ct+=1"
      ],
      "metadata": {
        "colab": {
          "base_uri": "https://localhost:8080/"
        },
        "id": "Mg63tjx1mSfK",
        "outputId": "dc2410e4-cbb7-43b7-bfea-1008f97fa2ff"
      },
      "execution_count": null,
      "outputs": [
        {
          "output_type": "stream",
          "name": "stderr",
          "text": [
            "<ipython-input-11-ee94c8277dd3>:9: SettingWithCopyWarning: \n",
            "A value is trying to be set on a copy of a slice from a DataFrame\n",
            "\n",
            "See the caveats in the documentation: https://pandas.pydata.org/pandas-docs/stable/user_guide/indexing.html#returning-a-view-versus-a-copy\n",
            "  train['Packet delay'][i]=100\n",
            "<ipython-input-11-ee94c8277dd3>:5: SettingWithCopyWarning: \n",
            "A value is trying to be set on a copy of a slice from a DataFrame\n",
            "\n",
            "See the caveats in the documentation: https://pandas.pydata.org/pandas-docs/stable/user_guide/indexing.html#returning-a-view-versus-a-copy\n",
            "  train['Packet delay'][i]=50\n",
            "<ipython-input-11-ee94c8277dd3>:7: SettingWithCopyWarning: \n",
            "A value is trying to be set on a copy of a slice from a DataFrame\n",
            "\n",
            "See the caveats in the documentation: https://pandas.pydata.org/pandas-docs/stable/user_guide/indexing.html#returning-a-view-versus-a-copy\n",
            "  train['Packet delay'][i]=75\n"
          ]
        }
      ]
    },
    {
      "cell_type": "code",
      "source": [
        "#Healthcare packet loss rate\n",
        "count_1=0\n",
        "count_2=0\n",
        "count_3=0\n",
        "count_4=0\n",
        "size=31583\n",
        "for i in range(size):\n",
        "  if train['Healthcare'][i]==1:\n",
        "    if train['Packet delay'][i]==10 :count_1+=1\n",
        "    elif(train['Packet delay'][i]==50):count_2+=1\n",
        "    elif(train['Packet delay'][i]==75):count_3+=1\n",
        "    else:count_4+=1\n",
        "print(count_1,count_2,count_3,count_4)"
      ],
      "metadata": {
        "colab": {
          "base_uri": "https://localhost:8080/"
        },
        "id": "YqBpf06kmkMV",
        "outputId": "e319188b-a9d7-4e09-b968-d269ec87aec0"
      },
      "execution_count": null,
      "outputs": [
        {
          "output_type": "stream",
          "name": "stdout",
          "text": [
            "588 458 418 366\n"
          ]
        }
      ]
    },
    {
      "cell_type": "code",
      "source": [
        "train[\"PacketSize\"]=np.zeros(size)\n",
        "\n",
        "for i in range(size):\n",
        "  if train[\"slice Type\"][i] == 1:\n",
        "    train[\"PacketSize\"][i] = np.random.randint(200, 250)\n",
        "  elif train[\"slice Type\"][i] == 2:\n",
        "    train[\"PacketSize\"][i] = np.random.randint(120, 220)\n",
        "  else:\n",
        "    train[\"PacketSize\"][i] = np.random.randint(50, 150)\n"
      ],
      "metadata": {
        "colab": {
          "base_uri": "https://localhost:8080/"
        },
        "id": "WYuoo7y5oEd4",
        "outputId": "3effec7f-117c-4181-e8d6-28f56d11dfcf"
      },
      "execution_count": null,
      "outputs": [
        {
          "output_type": "stream",
          "name": "stderr",
          "text": [
            "<ipython-input-13-72869469152f>:9: SettingWithCopyWarning: \n",
            "A value is trying to be set on a copy of a slice from a DataFrame\n",
            "\n",
            "See the caveats in the documentation: https://pandas.pydata.org/pandas-docs/stable/user_guide/indexing.html#returning-a-view-versus-a-copy\n",
            "  train[\"PacketSize\"][i] = np.random.randint(50, 150)\n",
            "<ipython-input-13-72869469152f>:5: SettingWithCopyWarning: \n",
            "A value is trying to be set on a copy of a slice from a DataFrame\n",
            "\n",
            "See the caveats in the documentation: https://pandas.pydata.org/pandas-docs/stable/user_guide/indexing.html#returning-a-view-versus-a-copy\n",
            "  train[\"PacketSize\"][i] = np.random.randint(200, 250)\n",
            "<ipython-input-13-72869469152f>:7: SettingWithCopyWarning: \n",
            "A value is trying to be set on a copy of a slice from a DataFrame\n",
            "\n",
            "See the caveats in the documentation: https://pandas.pydata.org/pandas-docs/stable/user_guide/indexing.html#returning-a-view-versus-a-copy\n",
            "  train[\"PacketSize\"][i] = np.random.randint(120, 220)\n"
          ]
        }
      ]
    },
    {
      "cell_type": "code",
      "source": [
        "train.rename(columns = {'Packet Loss Rate':'PacketLossRate'}, inplace = True)\n",
        "train.rename(columns = {'Packet delay':'PacketDelay'}, inplace = True)\n",
        "train.rename(columns = {'slice Type':'sliceType'}, inplace = True)\n",
        "train"
      ],
      "metadata": {
        "colab": {
          "base_uri": "https://localhost:8080/",
          "height": 540
        },
        "id": "FnapIteroP3I",
        "outputId": "efbd9785-ddb4-4c0e-894e-363cd0caeb12"
      },
      "execution_count": null,
      "outputs": [
        {
          "output_type": "execute_result",
          "data": {
            "text/plain": [
              "       LTE/5g Category  Time  PacketLossRate  PacketDelay  IoT  LTE/5G  GBR  \\\n",
              "0                   14     0        0.000001           10    1       0    0   \n",
              "1                   18    20        0.001000          100    0       1    1   \n",
              "2                   17    14        0.000001          300    0       1    0   \n",
              "3                    3    17        0.010000          100    0       1    0   \n",
              "4                    9     4        0.010000           50    1       0    0   \n",
              "...                ...   ...             ...          ...  ...     ...  ...   \n",
              "31578               14    23        0.010000          100    0       1    0   \n",
              "31579               12     7        0.010000           50    1       0    0   \n",
              "31580               18     5        0.010000          300    1       0    1   \n",
              "31581                8     1        0.000001           10    1       0    0   \n",
              "31582               20    20        0.000001           10    1       0    0   \n",
              "\n",
              "       Non-GBR  AR/VR/Gaming  Healthcare  Industry 4.0  IoT Devices  \\\n",
              "0            1             0           0             0            0   \n",
              "1            0             1           0             0            0   \n",
              "2            1             0           0             0            0   \n",
              "3            1             0           0             0            0   \n",
              "4            1             0           0             0            0   \n",
              "...        ...           ...         ...           ...          ...   \n",
              "31578        1             0           0             0            0   \n",
              "31579        1             0           0             0            0   \n",
              "31580        0             0           0             0            1   \n",
              "31581        1             0           1             0            0   \n",
              "31582        1             0           0             1            0   \n",
              "\n",
              "       Public Safety  Smart City & Home  Smart Transportation  Smartphone  \\\n",
              "0                  1                  0                     0           0   \n",
              "1                  0                  0                     0           0   \n",
              "2                  0                  0                     0           1   \n",
              "3                  0                  0                     0           1   \n",
              "4                  0                  1                     0           0   \n",
              "...              ...                ...                   ...         ...   \n",
              "31578              0                  0                     0           1   \n",
              "31579              0                  1                     0           0   \n",
              "31580              0                  0                     0           0   \n",
              "31581              0                  0                     0           0   \n",
              "31582              0                  0                     0           0   \n",
              "\n",
              "       sliceType  PacketSize  \n",
              "0              3       100.0  \n",
              "1              1       218.0  \n",
              "2              1       238.0  \n",
              "3              1       237.0  \n",
              "4              2       125.0  \n",
              "...          ...         ...  \n",
              "31578          1       210.0  \n",
              "31579          2       154.0  \n",
              "31580          2       209.0  \n",
              "31581          3       139.0  \n",
              "31582          3        51.0  \n",
              "\n",
              "[31583 rows x 18 columns]"
            ],
            "text/html": [
              "\n",
              "  <div id=\"df-ed891f44-999e-46d3-b04f-3214d65c39a7\">\n",
              "    <div class=\"colab-df-container\">\n",
              "      <div>\n",
              "<style scoped>\n",
              "    .dataframe tbody tr th:only-of-type {\n",
              "        vertical-align: middle;\n",
              "    }\n",
              "\n",
              "    .dataframe tbody tr th {\n",
              "        vertical-align: top;\n",
              "    }\n",
              "\n",
              "    .dataframe thead th {\n",
              "        text-align: right;\n",
              "    }\n",
              "</style>\n",
              "<table border=\"1\" class=\"dataframe\">\n",
              "  <thead>\n",
              "    <tr style=\"text-align: right;\">\n",
              "      <th></th>\n",
              "      <th>LTE/5g Category</th>\n",
              "      <th>Time</th>\n",
              "      <th>PacketLossRate</th>\n",
              "      <th>PacketDelay</th>\n",
              "      <th>IoT</th>\n",
              "      <th>LTE/5G</th>\n",
              "      <th>GBR</th>\n",
              "      <th>Non-GBR</th>\n",
              "      <th>AR/VR/Gaming</th>\n",
              "      <th>Healthcare</th>\n",
              "      <th>Industry 4.0</th>\n",
              "      <th>IoT Devices</th>\n",
              "      <th>Public Safety</th>\n",
              "      <th>Smart City &amp; Home</th>\n",
              "      <th>Smart Transportation</th>\n",
              "      <th>Smartphone</th>\n",
              "      <th>sliceType</th>\n",
              "      <th>PacketSize</th>\n",
              "    </tr>\n",
              "  </thead>\n",
              "  <tbody>\n",
              "    <tr>\n",
              "      <th>0</th>\n",
              "      <td>14</td>\n",
              "      <td>0</td>\n",
              "      <td>0.000001</td>\n",
              "      <td>10</td>\n",
              "      <td>1</td>\n",
              "      <td>0</td>\n",
              "      <td>0</td>\n",
              "      <td>1</td>\n",
              "      <td>0</td>\n",
              "      <td>0</td>\n",
              "      <td>0</td>\n",
              "      <td>0</td>\n",
              "      <td>1</td>\n",
              "      <td>0</td>\n",
              "      <td>0</td>\n",
              "      <td>0</td>\n",
              "      <td>3</td>\n",
              "      <td>100.0</td>\n",
              "    </tr>\n",
              "    <tr>\n",
              "      <th>1</th>\n",
              "      <td>18</td>\n",
              "      <td>20</td>\n",
              "      <td>0.001000</td>\n",
              "      <td>100</td>\n",
              "      <td>0</td>\n",
              "      <td>1</td>\n",
              "      <td>1</td>\n",
              "      <td>0</td>\n",
              "      <td>1</td>\n",
              "      <td>0</td>\n",
              "      <td>0</td>\n",
              "      <td>0</td>\n",
              "      <td>0</td>\n",
              "      <td>0</td>\n",
              "      <td>0</td>\n",
              "      <td>0</td>\n",
              "      <td>1</td>\n",
              "      <td>218.0</td>\n",
              "    </tr>\n",
              "    <tr>\n",
              "      <th>2</th>\n",
              "      <td>17</td>\n",
              "      <td>14</td>\n",
              "      <td>0.000001</td>\n",
              "      <td>300</td>\n",
              "      <td>0</td>\n",
              "      <td>1</td>\n",
              "      <td>0</td>\n",
              "      <td>1</td>\n",
              "      <td>0</td>\n",
              "      <td>0</td>\n",
              "      <td>0</td>\n",
              "      <td>0</td>\n",
              "      <td>0</td>\n",
              "      <td>0</td>\n",
              "      <td>0</td>\n",
              "      <td>1</td>\n",
              "      <td>1</td>\n",
              "      <td>238.0</td>\n",
              "    </tr>\n",
              "    <tr>\n",
              "      <th>3</th>\n",
              "      <td>3</td>\n",
              "      <td>17</td>\n",
              "      <td>0.010000</td>\n",
              "      <td>100</td>\n",
              "      <td>0</td>\n",
              "      <td>1</td>\n",
              "      <td>0</td>\n",
              "      <td>1</td>\n",
              "      <td>0</td>\n",
              "      <td>0</td>\n",
              "      <td>0</td>\n",
              "      <td>0</td>\n",
              "      <td>0</td>\n",
              "      <td>0</td>\n",
              "      <td>0</td>\n",
              "      <td>1</td>\n",
              "      <td>1</td>\n",
              "      <td>237.0</td>\n",
              "    </tr>\n",
              "    <tr>\n",
              "      <th>4</th>\n",
              "      <td>9</td>\n",
              "      <td>4</td>\n",
              "      <td>0.010000</td>\n",
              "      <td>50</td>\n",
              "      <td>1</td>\n",
              "      <td>0</td>\n",
              "      <td>0</td>\n",
              "      <td>1</td>\n",
              "      <td>0</td>\n",
              "      <td>0</td>\n",
              "      <td>0</td>\n",
              "      <td>0</td>\n",
              "      <td>0</td>\n",
              "      <td>1</td>\n",
              "      <td>0</td>\n",
              "      <td>0</td>\n",
              "      <td>2</td>\n",
              "      <td>125.0</td>\n",
              "    </tr>\n",
              "    <tr>\n",
              "      <th>...</th>\n",
              "      <td>...</td>\n",
              "      <td>...</td>\n",
              "      <td>...</td>\n",
              "      <td>...</td>\n",
              "      <td>...</td>\n",
              "      <td>...</td>\n",
              "      <td>...</td>\n",
              "      <td>...</td>\n",
              "      <td>...</td>\n",
              "      <td>...</td>\n",
              "      <td>...</td>\n",
              "      <td>...</td>\n",
              "      <td>...</td>\n",
              "      <td>...</td>\n",
              "      <td>...</td>\n",
              "      <td>...</td>\n",
              "      <td>...</td>\n",
              "      <td>...</td>\n",
              "    </tr>\n",
              "    <tr>\n",
              "      <th>31578</th>\n",
              "      <td>14</td>\n",
              "      <td>23</td>\n",
              "      <td>0.010000</td>\n",
              "      <td>100</td>\n",
              "      <td>0</td>\n",
              "      <td>1</td>\n",
              "      <td>0</td>\n",
              "      <td>1</td>\n",
              "      <td>0</td>\n",
              "      <td>0</td>\n",
              "      <td>0</td>\n",
              "      <td>0</td>\n",
              "      <td>0</td>\n",
              "      <td>0</td>\n",
              "      <td>0</td>\n",
              "      <td>1</td>\n",
              "      <td>1</td>\n",
              "      <td>210.0</td>\n",
              "    </tr>\n",
              "    <tr>\n",
              "      <th>31579</th>\n",
              "      <td>12</td>\n",
              "      <td>7</td>\n",
              "      <td>0.010000</td>\n",
              "      <td>50</td>\n",
              "      <td>1</td>\n",
              "      <td>0</td>\n",
              "      <td>0</td>\n",
              "      <td>1</td>\n",
              "      <td>0</td>\n",
              "      <td>0</td>\n",
              "      <td>0</td>\n",
              "      <td>0</td>\n",
              "      <td>0</td>\n",
              "      <td>1</td>\n",
              "      <td>0</td>\n",
              "      <td>0</td>\n",
              "      <td>2</td>\n",
              "      <td>154.0</td>\n",
              "    </tr>\n",
              "    <tr>\n",
              "      <th>31580</th>\n",
              "      <td>18</td>\n",
              "      <td>5</td>\n",
              "      <td>0.010000</td>\n",
              "      <td>300</td>\n",
              "      <td>1</td>\n",
              "      <td>0</td>\n",
              "      <td>1</td>\n",
              "      <td>0</td>\n",
              "      <td>0</td>\n",
              "      <td>0</td>\n",
              "      <td>0</td>\n",
              "      <td>1</td>\n",
              "      <td>0</td>\n",
              "      <td>0</td>\n",
              "      <td>0</td>\n",
              "      <td>0</td>\n",
              "      <td>2</td>\n",
              "      <td>209.0</td>\n",
              "    </tr>\n",
              "    <tr>\n",
              "      <th>31581</th>\n",
              "      <td>8</td>\n",
              "      <td>1</td>\n",
              "      <td>0.000001</td>\n",
              "      <td>10</td>\n",
              "      <td>1</td>\n",
              "      <td>0</td>\n",
              "      <td>0</td>\n",
              "      <td>1</td>\n",
              "      <td>0</td>\n",
              "      <td>1</td>\n",
              "      <td>0</td>\n",
              "      <td>0</td>\n",
              "      <td>0</td>\n",
              "      <td>0</td>\n",
              "      <td>0</td>\n",
              "      <td>0</td>\n",
              "      <td>3</td>\n",
              "      <td>139.0</td>\n",
              "    </tr>\n",
              "    <tr>\n",
              "      <th>31582</th>\n",
              "      <td>20</td>\n",
              "      <td>20</td>\n",
              "      <td>0.000001</td>\n",
              "      <td>10</td>\n",
              "      <td>1</td>\n",
              "      <td>0</td>\n",
              "      <td>0</td>\n",
              "      <td>1</td>\n",
              "      <td>0</td>\n",
              "      <td>0</td>\n",
              "      <td>1</td>\n",
              "      <td>0</td>\n",
              "      <td>0</td>\n",
              "      <td>0</td>\n",
              "      <td>0</td>\n",
              "      <td>0</td>\n",
              "      <td>3</td>\n",
              "      <td>51.0</td>\n",
              "    </tr>\n",
              "  </tbody>\n",
              "</table>\n",
              "<p>31583 rows × 18 columns</p>\n",
              "</div>\n",
              "      <button class=\"colab-df-convert\" onclick=\"convertToInteractive('df-ed891f44-999e-46d3-b04f-3214d65c39a7')\"\n",
              "              title=\"Convert this dataframe to an interactive table.\"\n",
              "              style=\"display:none;\">\n",
              "        \n",
              "  <svg xmlns=\"http://www.w3.org/2000/svg\" height=\"24px\"viewBox=\"0 0 24 24\"\n",
              "       width=\"24px\">\n",
              "    <path d=\"M0 0h24v24H0V0z\" fill=\"none\"/>\n",
              "    <path d=\"M18.56 5.44l.94 2.06.94-2.06 2.06-.94-2.06-.94-.94-2.06-.94 2.06-2.06.94zm-11 1L8.5 8.5l.94-2.06 2.06-.94-2.06-.94L8.5 2.5l-.94 2.06-2.06.94zm10 10l.94 2.06.94-2.06 2.06-.94-2.06-.94-.94-2.06-.94 2.06-2.06.94z\"/><path d=\"M17.41 7.96l-1.37-1.37c-.4-.4-.92-.59-1.43-.59-.52 0-1.04.2-1.43.59L10.3 9.45l-7.72 7.72c-.78.78-.78 2.05 0 2.83L4 21.41c.39.39.9.59 1.41.59.51 0 1.02-.2 1.41-.59l7.78-7.78 2.81-2.81c.8-.78.8-2.07 0-2.86zM5.41 20L4 18.59l7.72-7.72 1.47 1.35L5.41 20z\"/>\n",
              "  </svg>\n",
              "      </button>\n",
              "      \n",
              "  <style>\n",
              "    .colab-df-container {\n",
              "      display:flex;\n",
              "      flex-wrap:wrap;\n",
              "      gap: 12px;\n",
              "    }\n",
              "\n",
              "    .colab-df-convert {\n",
              "      background-color: #E8F0FE;\n",
              "      border: none;\n",
              "      border-radius: 50%;\n",
              "      cursor: pointer;\n",
              "      display: none;\n",
              "      fill: #1967D2;\n",
              "      height: 32px;\n",
              "      padding: 0 0 0 0;\n",
              "      width: 32px;\n",
              "    }\n",
              "\n",
              "    .colab-df-convert:hover {\n",
              "      background-color: #E2EBFA;\n",
              "      box-shadow: 0px 1px 2px rgba(60, 64, 67, 0.3), 0px 1px 3px 1px rgba(60, 64, 67, 0.15);\n",
              "      fill: #174EA6;\n",
              "    }\n",
              "\n",
              "    [theme=dark] .colab-df-convert {\n",
              "      background-color: #3B4455;\n",
              "      fill: #D2E3FC;\n",
              "    }\n",
              "\n",
              "    [theme=dark] .colab-df-convert:hover {\n",
              "      background-color: #434B5C;\n",
              "      box-shadow: 0px 1px 3px 1px rgba(0, 0, 0, 0.15);\n",
              "      filter: drop-shadow(0px 1px 2px rgba(0, 0, 0, 0.3));\n",
              "      fill: #FFFFFF;\n",
              "    }\n",
              "  </style>\n",
              "\n",
              "      <script>\n",
              "        const buttonEl =\n",
              "          document.querySelector('#df-ed891f44-999e-46d3-b04f-3214d65c39a7 button.colab-df-convert');\n",
              "        buttonEl.style.display =\n",
              "          google.colab.kernel.accessAllowed ? 'block' : 'none';\n",
              "\n",
              "        async function convertToInteractive(key) {\n",
              "          const element = document.querySelector('#df-ed891f44-999e-46d3-b04f-3214d65c39a7');\n",
              "          const dataTable =\n",
              "            await google.colab.kernel.invokeFunction('convertToInteractive',\n",
              "                                                     [key], {});\n",
              "          if (!dataTable) return;\n",
              "\n",
              "          const docLinkHtml = 'Like what you see? Visit the ' +\n",
              "            '<a target=\"_blank\" href=https://colab.research.google.com/notebooks/data_table.ipynb>data table notebook</a>'\n",
              "            + ' to learn more about interactive tables.';\n",
              "          element.innerHTML = '';\n",
              "          dataTable['output_type'] = 'display_data';\n",
              "          await google.colab.output.renderOutput(dataTable, element);\n",
              "          const docLink = document.createElement('div');\n",
              "          docLink.innerHTML = docLinkHtml;\n",
              "          element.appendChild(docLink);\n",
              "        }\n",
              "      </script>\n",
              "    </div>\n",
              "  </div>\n",
              "  "
            ]
          },
          "metadata": {},
          "execution_count": 14
        }
      ]
    },
    {
      "cell_type": "code",
      "source": [
        "for i in range(size):\n",
        "    if(train[\"Healthcare\"][i] == 1):\n",
        "\n",
        "      if(train[\"PacketLossRate\"][i] == 0.01):\n",
        "        if(train[\"PacketDelay\"][i] == 50 or train[\"PacketDelay\"][i] == 10):\n",
        "          if(train[\"PacketSize\"][i] >= 50 and train[\"PacketSize\"][i] <= 220):\n",
        "            train[\"sliceType\"][i] = 2\n",
        "        elif(train[\"PacketDelay\"][i] >= 75):\n",
        "          if(train[\"PacketSize\"][i] >= 120 and train[\"PacketSize\"][i] <= 220):\n",
        "              train[\"sliceType\"][i] = 2\n",
        "\n",
        "      elif(train[\"PacketLossRate\"][i] == 0.001):\n",
        "          if(train[\"PacketDelay\"][i] >= 50 or train[\"PacketDelay\"][i] < 100):\n",
        "            if(train[\"PacketSize\"][i] >= 200 and train[\"PacketSize\"][i] <= 250):\n",
        "              train[\"sliceType\"][i] = 1\n",
        "            elif(train[\"PacketSize\"][i] >= 50 and train[\"PacketSize\"][i] <= 200):\n",
        "              train[\"sliceType\"][i] = 1\n",
        "\n",
        "      elif(train[\"PacketLossRate\"][i] == 0.000001):\n",
        "          if(train[\"PacketDelay\"][i] == 10):\n",
        "            if(train[\"PacketSize\"][i] >= 50 and train[\"PacketSize\"][i] <= 150):\n",
        "              train[\"sliceType\"][i] = 3"
      ],
      "metadata": {
        "colab": {
          "base_uri": "https://localhost:8080/"
        },
        "id": "cWvRQ6Ddtc4F",
        "outputId": "012b8913-f7d8-436d-cc9d-1b4794433ef0"
      },
      "execution_count": null,
      "outputs": [
        {
          "output_type": "stream",
          "name": "stderr",
          "text": [
            "<ipython-input-15-94b43292726f>:22: SettingWithCopyWarning: \n",
            "A value is trying to be set on a copy of a slice from a DataFrame\n",
            "\n",
            "See the caveats in the documentation: https://pandas.pydata.org/pandas-docs/stable/user_guide/indexing.html#returning-a-view-versus-a-copy\n",
            "  train[\"sliceType\"][i] = 3\n",
            "<ipython-input-15-94b43292726f>:17: SettingWithCopyWarning: \n",
            "A value is trying to be set on a copy of a slice from a DataFrame\n",
            "\n",
            "See the caveats in the documentation: https://pandas.pydata.org/pandas-docs/stable/user_guide/indexing.html#returning-a-view-versus-a-copy\n",
            "  train[\"sliceType\"][i] = 1\n",
            "<ipython-input-15-94b43292726f>:10: SettingWithCopyWarning: \n",
            "A value is trying to be set on a copy of a slice from a DataFrame\n",
            "\n",
            "See the caveats in the documentation: https://pandas.pydata.org/pandas-docs/stable/user_guide/indexing.html#returning-a-view-versus-a-copy\n",
            "  train[\"sliceType\"][i] = 2\n"
          ]
        }
      ]
    },
    {
      "cell_type": "code",
      "source": [
        "#Healthcare packet loss rate\n",
        "count_1=0\n",
        "count_2=0\n",
        "count_3=0\n",
        "size=31583\n",
        "for i in range(size):\n",
        "  if train['Healthcare'][i]==1:\n",
        "    if train['sliceType'][i]==1 :count_1+=1\n",
        "    elif(train['sliceType'][i]==2):count_2+=1\n",
        "    else:count_3+=1\n",
        "print(count_1,count_2,count_3)"
      ],
      "metadata": {
        "colab": {
          "base_uri": "https://localhost:8080/"
        },
        "id": "fFEKsWvTQAi0",
        "outputId": "602e141a-04ac-4da9-ae88-63e818058079"
      },
      "execution_count": null,
      "outputs": [
        {
          "output_type": "stream",
          "name": "stdout",
          "text": [
            "488 110 1232\n"
          ]
        }
      ]
    },
    {
      "cell_type": "code",
      "source": [
        "Xmain = train[{'PacketLossRate', 'PacketDelay' , 'PacketSize'}]\n",
        "Ymain = train['sliceType']"
      ],
      "metadata": {
        "id": "VVq27S1Io8la"
      },
      "execution_count": null,
      "outputs": []
    },
    {
      "cell_type": "code",
      "source": [
        "from sklearn.model_selection import train_test_split\n",
        "X_train , X_test , Y_train , Y_test = train_test_split(Xmain, Ymain , test_size=0.2, random_state=0)\n",
        "X_train.shape, X_test.shape"
      ],
      "metadata": {
        "colab": {
          "base_uri": "https://localhost:8080/"
        },
        "id": "g99Z8Sm_pCr4",
        "outputId": "f8ddbcf2-e924-4bc5-8afd-0322f8beef2a"
      },
      "execution_count": null,
      "outputs": [
        {
          "output_type": "execute_result",
          "data": {
            "text/plain": [
              "((25266, 3), (6317, 3))"
            ]
          },
          "metadata": {},
          "execution_count": 18
        }
      ]
    },
    {
      "cell_type": "code",
      "source": [
        "from sklearn.ensemble import RandomForestClassifier\n",
        "clf = RandomForestClassifier(max_depth = 4, random_state=0)\n",
        "clf.fit(X_train, Y_train)\n",
        "Y_pred = clf.predict(X_test)\n",
        "clf.score(X_train,Y_train),clf.score(X_test,Y_test)"
      ],
      "metadata": {
        "colab": {
          "base_uri": "https://localhost:8080/"
        },
        "id": "acLey-pNpY8M",
        "outputId": "77a01858-3c33-48da-9582-81d3dad62964"
      },
      "execution_count": null,
      "outputs": [
        {
          "output_type": "execute_result",
          "data": {
            "text/plain": [
              "(0.9709095226786987, 0.9718220674370746)"
            ]
          },
          "metadata": {},
          "execution_count": 19
        }
      ]
    },
    {
      "cell_type": "code",
      "source": [
        "print(Y_pred)\n",
        "print(Y_test)"
      ],
      "metadata": {
        "colab": {
          "base_uri": "https://localhost:8080/"
        },
        "id": "e9o3s5bkp_rx",
        "outputId": "f0f62e95-68ef-4cf7-80c1-40fbb61c151e"
      },
      "execution_count": null,
      "outputs": [
        {
          "output_type": "stream",
          "name": "stdout",
          "text": [
            "[1 3 3 ... 1 3 1]\n",
            "7366     1\n",
            "18       3\n",
            "9214     3\n",
            "12282    2\n",
            "27179    1\n",
            "        ..\n",
            "16042    1\n",
            "6072     1\n",
            "13330    1\n",
            "31460    3\n",
            "16447    1\n",
            "Name: sliceType, Length: 6317, dtype: int64\n"
          ]
        }
      ]
    },
    {
      "cell_type": "code",
      "source": [
        "new_train = train.loc[train['Healthcare'] == 1]\n",
        "health_index= new_train.index\n",
        "health_index"
      ],
      "metadata": {
        "colab": {
          "base_uri": "https://localhost:8080/"
        },
        "id": "XeBOPPLB1Ydj",
        "outputId": "33418d2f-f19b-48d2-aaf0-ab86e9b5d841"
      },
      "execution_count": null,
      "outputs": [
        {
          "output_type": "execute_result",
          "data": {
            "text/plain": [
              "Int64Index([   11,    18,    34,    62,    75,    90,    94,    95,   112,\n",
              "              136,\n",
              "            ...\n",
              "            31298, 31308, 31328, 31338, 31372, 31414, 31438, 31497, 31553,\n",
              "            31581],\n",
              "           dtype='int64', length=1830)"
            ]
          },
          "metadata": {},
          "execution_count": 21
        }
      ]
    },
    {
      "cell_type": "code",
      "source": [
        "ind = Y_test.index\n",
        "arr_pred = np.zeros(size)\n",
        "for i in range(6317):\n",
        "  arr_pred[ind[i]]= Y_pred[i]\n",
        "\n",
        "arr_test = np.zeros(size)\n",
        "for i in range(6317):\n",
        "  arr_test[ind[i]] = Y_test[ind[i]]"
      ],
      "metadata": {
        "id": "hcYx-x1sWemF"
      },
      "execution_count": null,
      "outputs": []
    },
    {
      "cell_type": "code",
      "source": [
        "ind"
      ],
      "metadata": {
        "colab": {
          "base_uri": "https://localhost:8080/"
        },
        "id": "O3OYRqiVfMRP",
        "outputId": "8679568a-54cc-40a0-d0ff-2b74beaefb42"
      },
      "execution_count": null,
      "outputs": [
        {
          "output_type": "execute_result",
          "data": {
            "text/plain": [
              "Int64Index([ 7366,    18,  9214, 12282, 27179, 10701, 14485,  2017, 13210,\n",
              "            11176,\n",
              "            ...\n",
              "            20798, 19014, 15745, 31541, 10594, 16042,  6072, 13330, 31460,\n",
              "            16447],\n",
              "           dtype='int64', length=6317)"
            ]
          },
          "metadata": {},
          "execution_count": 23
        }
      ]
    },
    {
      "cell_type": "code",
      "source": [
        "health_test = np.zeros(size)\n",
        "health_pred = np.zeros(size)\n",
        "for i in range(1830):\n",
        "  health_test[health_index[i]] = arr_test[health_index[i]]\n",
        "  health_pred[health_index[i]] = arr_pred[health_index[i]]\n",
        "\n",
        "h_test = np.zeros(379)\n",
        "h_pred = np.zeros(379)\n",
        "j=0\n",
        "for i in range(size):\n",
        "  if(health_test[i] != 0):\n",
        "    h_test[j] = health_test[i]\n",
        "    h_pred[j] = health_pred[i]\n",
        "    j=j+1\n",
        "\n",
        "count=0\n",
        "for i in range(size):\n",
        "  if(health_test[i] != 0):\n",
        "    count=count+1\n",
        "count"
      ],
      "metadata": {
        "colab": {
          "base_uri": "https://localhost:8080/"
        },
        "id": "4VsnVhwoeLvR",
        "outputId": "0447cc42-bc51-4806-9708-8f47666cc82e"
      },
      "execution_count": null,
      "outputs": [
        {
          "output_type": "execute_result",
          "data": {
            "text/plain": [
              "379"
            ]
          },
          "metadata": {},
          "execution_count": 24
        }
      ]
    },
    {
      "cell_type": "code",
      "source": [
        "from sklearn.metrics import confusion_matrix, classification_report,accuracy_score\n",
        "\n",
        "print(confusion_matrix(Y_test, Y_pred))\n",
        "print(classification_report(Y_test, Y_pred))\n",
        "print(accuracy_score(Y_test, Y_pred))"
      ],
      "metadata": {
        "colab": {
          "base_uri": "https://localhost:8080/"
        },
        "id": "1MXuax84Ut1r",
        "outputId": "2c6ce8e6-424b-47b9-f3d3-ee27901930bc"
      },
      "execution_count": null,
      "outputs": [
        {
          "output_type": "stream",
          "name": "stdout",
          "text": [
            "[[3459   35    0]\n",
            " [ 143 1391    0]\n",
            " [   0    0 1289]]\n",
            "              precision    recall  f1-score   support\n",
            "\n",
            "           1       0.96      0.99      0.97      3494\n",
            "           2       0.98      0.91      0.94      1534\n",
            "           3       1.00      1.00      1.00      1289\n",
            "\n",
            "    accuracy                           0.97      6317\n",
            "   macro avg       0.98      0.97      0.97      6317\n",
            "weighted avg       0.97      0.97      0.97      6317\n",
            "\n",
            "0.9718220674370746\n"
          ]
        }
      ]
    },
    {
      "cell_type": "code",
      "source": [
        "from sklearn.metrics import confusion_matrix, classification_report, accuracy_score\n",
        "\n",
        "print(confusion_matrix(h_test, h_pred))\n",
        "print(classification_report(h_test, h_pred))\n",
        "print(accuracy_score(h_test, h_pred)*100)"
      ],
      "metadata": {
        "colab": {
          "base_uri": "https://localhost:8080/"
        },
        "id": "MgqGJc0fjiE7",
        "outputId": "607611a1-fce3-4549-b592-659a2e00e392"
      },
      "execution_count": null,
      "outputs": [
        {
          "output_type": "stream",
          "name": "stdout",
          "text": [
            "[[ 70  35   0]\n",
            " [  0  24   0]\n",
            " [  0   0 250]]\n",
            "              precision    recall  f1-score   support\n",
            "\n",
            "         1.0       1.00      0.67      0.80       105\n",
            "         2.0       0.41      1.00      0.58        24\n",
            "         3.0       1.00      1.00      1.00       250\n",
            "\n",
            "    accuracy                           0.91       379\n",
            "   macro avg       0.80      0.89      0.79       379\n",
            "weighted avg       0.96      0.91      0.92       379\n",
            "\n",
            "90.76517150395779\n"
          ]
        }
      ]
    },
    {
      "cell_type": "code",
      "source": [
        "plt.figure(figsize=(6,6))\n",
        "sns.countplot('sliceType',data=train,hue='PacketDelay')"
      ],
      "metadata": {
        "colab": {
          "base_uri": "https://localhost:8080/",
          "height": 461
        },
        "id": "ujh7oj1x5RL8",
        "outputId": "6a41daf0-9526-40aa-e541-13a5dcd76d6e"
      },
      "execution_count": null,
      "outputs": [
        {
          "output_type": "stream",
          "name": "stderr",
          "text": [
            "/usr/local/lib/python3.8/dist-packages/seaborn/_decorators.py:36: FutureWarning: Pass the following variable as a keyword arg: x. From version 0.12, the only valid positional argument will be `data`, and passing other arguments without an explicit keyword will result in an error or misinterpretation.\n",
            "  warnings.warn(\n"
          ]
        },
        {
          "output_type": "execute_result",
          "data": {
            "text/plain": [
              "<matplotlib.axes._subplots.AxesSubplot at 0x7f0b24ffb070>"
            ]
          },
          "metadata": {},
          "execution_count": 27
        },
        {
          "output_type": "display_data",
          "data": {
            "text/plain": [
              "<Figure size 432x432 with 1 Axes>"
            ],
            "image/png": "[encoded data removed]"
          },
          "metadata": {
            "needs_background": "light"
          }
        }
      ]
    },
    {
      "cell_type": "code",
      "source": [
        "plt.figure(figsize=(6,6))\n",
        "sns.countplot('sliceType',data=train,hue='PacketLossRate')"
      ],
      "metadata": {
        "colab": {
          "base_uri": "https://localhost:8080/",
          "height": 460
        },
        "id": "KVr-VIL_7XqO",
        "outputId": "60f65687-874c-4a02-ec1c-299798feaa52"
      },
      "execution_count": null,
      "outputs": [
        {
          "output_type": "stream",
          "name": "stderr",
          "text": [
            "/usr/local/lib/python3.8/dist-packages/seaborn/_decorators.py:36: FutureWarning: Pass the following variable as a keyword arg: x. From version 0.12, the only valid positional argument will be `data`, and passing other arguments without an explicit keyword will result in an error or misinterpretation.\n",
            "  warnings.warn(\n"
          ]
        },
        {
          "output_type": "execute_result",
          "data": {
            "text/plain": [
              "<matplotlib.axes._subplots.AxesSubplot at 0x7f0b24e70610>"
            ]
          },
          "metadata": {},
          "execution_count": 28
        },
        {
          "output_type": "display_data",
          "data": {
            "text/plain": [
              "<Figure size 432x432 with 1 Axes>"
            ],
            "image/png": "[encoded data removed]"
          },
          "metadata": {
            "needs_background": "light"
          }
        }
      ]
    },
    {
      "cell_type": "code",
      "source": [
        "plt.figure(figsize=(10,5))\n",
        "sns.set()\n",
        "sns.countplot('sliceType',data=new_train,hue='PacketDelay')"
      ],
      "metadata": {
        "colab": {
          "base_uri": "https://localhost:8080/",
          "height": 411
        },
        "id": "elFh1Osh7vIK",
        "outputId": "00aee9ff-bdb6-4167-9b49-6c617381f71a"
      },
      "execution_count": null,
      "outputs": [
        {
          "output_type": "stream",
          "name": "stderr",
          "text": [
            "/usr/local/lib/python3.8/dist-packages/seaborn/_decorators.py:36: FutureWarning: Pass the following variable as a keyword arg: x. From version 0.12, the only valid positional argument will be `data`, and passing other arguments without an explicit keyword will result in an error or misinterpretation.\n",
            "  warnings.warn(\n"
          ]
        },
        {
          "output_type": "execute_result",
          "data": {
            "text/plain": [
              "<matplotlib.axes._subplots.AxesSubplot at 0x7f0b24ab92b0>"
            ]
          },
          "metadata": {},
          "execution_count": 29
        },
        {
          "output_type": "display_data",
          "data": {
            "text/plain": [
              "<Figure size 720x360 with 1 Axes>"
            ],
            "image/png": "[encoded data removed]"
          },
          "metadata": {
            "needs_background": "light"
          }
        }
      ]
    },
    {
      "cell_type": "code",
      "source": [
        "plt.figure(figsize=(10,5))\n",
        "sns.countplot('sliceType',data=new_train,hue='PacketLossRate')"
      ],
      "metadata": {
        "colab": {
          "base_uri": "https://localhost:8080/",
          "height": 411
        },
        "id": "bM1WHyhA8e6j",
        "outputId": "4d0034ff-1505-4c28-9b19-11171800ecb3"
      },
      "execution_count": null,
      "outputs": [
        {
          "output_type": "stream",
          "name": "stderr",
          "text": [
            "/usr/local/lib/python3.8/dist-packages/seaborn/_decorators.py:36: FutureWarning: Pass the following variable as a keyword arg: x. From version 0.12, the only valid positional argument will be `data`, and passing other arguments without an explicit keyword will result in an error or misinterpretation.\n",
            "  warnings.warn(\n"
          ]
        },
        {
          "output_type": "execute_result",
          "data": {
            "text/plain": [
              "<matplotlib.axes._subplots.AxesSubplot at 0x7f0b24e70d30>"
            ]
          },
          "metadata": {},
          "execution_count": 30
        },
        {
          "output_type": "display_data",
          "data": {
            "text/plain": [
              "<Figure size 720x360 with 1 Axes>"
            ],
            "image/png": "[encoded data removed]"
          },
          "metadata": {}
        }
      ]
    }
  ]
}